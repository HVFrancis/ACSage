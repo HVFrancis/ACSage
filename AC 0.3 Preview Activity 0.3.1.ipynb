{
 "cells": [
  {
   "cell_type": "markdown",
   "metadata": {},
   "source": []
  },
  {
   "cell_type": "code",
   "execution_count": 11,
   "metadata": {},
   "outputs": [
    {
     "data": {
      "application/vnd.jupyter.widget-view+json": {
       "model_id": "19bf87eb2de248b78568d0b99c08e0a0",
       "version_major": 2,
       "version_minor": 0
      },
      "text/plain": [
       "SW50ZXJhY3RpdmUgZnVuY3Rpb24gPGZ1bmN0aW9uIF8gYXQgMHgyODE3ZDVhYTA+IHdpdGggNyB3aWRnZXRzCiAgZjogRXZhbFRleHQodmFsdWU9dSd4XjInLCBkZXNjcmlwdGlvbj11JyRmKHjigKY=\n"
      ]
     },
     "metadata": {},
     "output_type": "display_data"
    }
   ],
   "source": [
    "@interact\n",
    "def _(f=('$f(x)$',x^2),\n",
    "      a=slider(-5, 5, default=1, step_size=0.1, label='A'), \n",
    "      b=slider(-5, 5, default=1, step_size=0.1, label='B'),\n",
    "      c=slider(-5, 5, default=0, step_size=0.1, label='C'),\n",
    "      d=slider(-5, 5, default=0, step_size=0.1, label='D'),\n",
    "      xZoom=range_slider(-100,100,default=(-10,10)),\n",
    "      yZoom=range_slider(-100,100,default=(-10,10))):  \n",
    "    pretty_print(html( '<font color=\"blue\">$g(x) = A f(B(x -C)) + D$</font>'))\n",
    "    g=a*f(b*(x-c))+d\n",
    "    baseplot=plot(f,xmin=xZoom[0], xmax=xZoom[1], ymin=yZoom[0], ymax=yZoom[1], color='red', linestyle='--')\n",
    "    modplot=plot(g,xmin=xZoom[0], xmax=xZoom[1], ymin=yZoom[0], ymax=yZoom[1])\n",
    "    fullplot=baseplot+modplot\n",
    "    fullplot.show()"
   ]
  },
  {
   "cell_type": "code",
   "execution_count": null,
   "metadata": {},
   "outputs": [],
   "source": []
  },
  {
   "cell_type": "code",
   "execution_count": null,
   "metadata": {},
   "outputs": [],
   "source": []
  },
  {
   "cell_type": "code",
   "execution_count": null,
   "metadata": {},
   "outputs": [],
   "source": []
  }
 ],
 "metadata": {
  "kernelspec": {
   "display_name": "SageMath 8.5",
   "language": "",
   "name": "sagemath"
  },
  "language_info": {
   "codemirror_mode": {
    "name": "ipython",
    "version": 2
   },
   "file_extension": ".py",
   "mimetype": "text/x-python",
   "name": "python",
   "nbconvert_exporter": "python",
   "pygments_lexer": "ipython2",
   "version": "2.7.15"
  }
 },
 "nbformat": 4,
 "nbformat_minor": 2
}
