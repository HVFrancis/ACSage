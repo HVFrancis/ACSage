{
 "cells": [
  {
   "cell_type": "code",
   "execution_count": 42,
   "metadata": {},
   "outputs": [
    {
     "data": {
      "application/vnd.jupyter.widget-view+json": {
       "model_id": "26dc0849b23e4b41918db3fda13cd15c",
       "version_major": 2,
       "version_minor": 0
      },
      "text/plain": [
       "SW50ZXJhY3RpdmUgZnVuY3Rpb24gPGZ1bmN0aW9uIF8gYXQgMHgyN2E3YTBmNTA+IHdpdGggNyB3aWRnZXRzCiAgZjogRXZhbFRleHQodmFsdWU9dSd4XjInLCBkZXNjcmlwdGlvbj11JyRmKHjigKY=\n"
      ]
     },
     "metadata": {},
     "output_type": "display_data"
    }
   ],
   "source": [
    "@interact\n",
    "def _(f=('$f(x)$', x^2), \n",
    "      a = slider(-10, 10, step_size=0.1), \n",
    "      h = slider(-3,3, default=1, step_size=0.1),\n",
    "      xMin=input_box(-5),\n",
    "      xMax=input_box(5),\n",
    "      yMin=input_box(-5),\n",
    "      yMax=input_box(5)):\n",
    "    if (h != 0):\n",
    "        m = (f(a+h) - f(a))/h\n",
    "        lineColor='green'\n",
    "    else:\n",
    "        fprime(x) = f.diff()\n",
    "        m = fprime(a)\n",
    "        lineColor = 'purple'\n",
    "    line(x) = m*(x-a) + f(a)\n",
    "    plot((f,line), xmin=xMin, xmax=xMax, ymin=yMin, ymax=yMax, aspect_ratio=1, color=['blue', lineColor]).show()"
   ]
  },
  {
   "cell_type": "code",
   "execution_count": null,
   "metadata": {},
   "outputs": [],
   "source": []
  }
 ],
 "metadata": {
  "kernelspec": {
   "display_name": "SageMath 8.5",
   "language": "",
   "name": "sagemath"
  },
  "language_info": {
   "codemirror_mode": {
    "name": "ipython",
    "version": 2
   },
   "file_extension": ".py",
   "mimetype": "text/x-python",
   "name": "python",
   "nbconvert_exporter": "python",
   "pygments_lexer": "ipython2",
   "version": "2.7.15"
  }
 },
 "nbformat": 4,
 "nbformat_minor": 2
}
